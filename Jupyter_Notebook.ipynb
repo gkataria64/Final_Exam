{
 "cells": [
  {
   "cell_type": "markdown",
   "metadata": {},
   "source": [
    "<center>\n",
    "    <img src=\"https://s3-api.us-geo.objectstorage.softlayer.net/cf-courses-data/CognitiveClass/Logos/organization_logo/organization_logo.png\" width=\"300\" alt=\"cognitiveclass.ai logo\"  />\n",
    "</center>\n"
   ]
  },
  {
   "cell_type": "markdown",
   "metadata": {},
   "source": [
    "# My Jupyter Notebook on IBM Watson Studio"
   ]
  },
  {
   "cell_type": "markdown",
   "metadata": {},
   "source": [
    "__Gaurav Kataria__  \n",
    "Current Occupation: Assistant Professor  \n",
    "Desired Occupation: Professor"
   ]
  },
  {
   "cell_type": "markdown",
   "metadata": {},
   "source": [
    "I am interested in data science because I enjoy working with numbers and finding a useful conclusion out of them.    "
   ]
  },
  {
   "cell_type": "markdown",
   "metadata": {},
   "source": [
    "### I want to know the multiplication of two numbers"
   ]
  },
  {
   "cell_type": "code",
   "execution_count": 15,
   "metadata": {},
   "outputs": [
    {
     "data": {
      "text/plain": [
       "63"
      ]
     },
     "execution_count": 15,
     "metadata": {},
     "output_type": "execute_result"
    }
   ],
   "source": [
    "9*7"
   ]
  },
  {
   "cell_type": "markdown",
   "metadata": {},
   "source": [
    "\n",
    "Horizontal Rule \n",
    "- - - \n",
    "* First Bullet\n",
    "* Second Bullet\n",
    "- - -\n",
    "1. Numbered 1\n",
    "2. Numbered 2\n",
    "- - -\n",
    "Table: 1.1 \n",
    "|S.No.| Name| ID|\n",
    "|---|---|---|\n",
    "|1.| Rahul| 1001|\n",
    "|2.| Don| 1002|\n",
    "- - -\n",
    "Google Link: [https://www.google.com/]\n",
    "- - -\n",
    "MUJ Logo:  \n",
    "![alt-text](https://th.bing.com/th/id/R.1f7ae0b96a47f8e359c78fb3e7595bfa?rik=BXC2qdvvGOXRYw&riu=http%3a%2f%2fwww.motachashma.com%2fimages%2fexams%2fmanipal-university-logo-admission.png&ehk=0wq3RBmX0HukidDTQzOlw0q51RxpAAZNMZmWUc16Q4A%3d&risl=&pid=ImgRaw&r=0)\n",
    "- - -\n",
    "``` print(\"Hello World\")```\n",
    "- - -\n",
    "~~Text Not Required~~\n",
    "- - -"
   ]
  }
 ],
 "metadata": {
  "kernelspec": {
   "display_name": "Python",
   "language": "python",
   "name": "conda-env-python-py"
  },
  "language_info": {
   "codemirror_mode": {
    "name": "ipython",
    "version": 3
   },
   "file_extension": ".py",
   "mimetype": "text/x-python",
   "name": "python",
   "nbconvert_exporter": "python",
   "pygments_lexer": "ipython3",
   "version": "3.7.12"
  }
 },
 "nbformat": 4,
 "nbformat_minor": 4
}
